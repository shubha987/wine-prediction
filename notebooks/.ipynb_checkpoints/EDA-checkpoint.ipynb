{
 "cells": [
  {
   "cell_type": "code",
   "execution_count": null,
   "metadata": {},
   "outputs": [],
   "source": [
    "# notebooks/EDA.ipynb\n",
    "import pandas as pd\n",
    "import seaborn as sns\n",
    "import matplotlib.pyplot as plt\n",
    "\n",
    "# Load the data\n",
    "data = pd.read_csv('../data/winequality-red.csv', sep=';')\n",
    "\n",
    "# Basic statistics and info\n",
    "print(data.info())\n",
    "print(data.describe())\n",
    "\n",
    "# Correlation heatmap\n",
    "plt.figure(figsize=(12, 8))\n",
    "sns.heatmap(data.corr(), annot=True, cmap='coolwarm')\n",
    "plt.show()\n",
    "\n",
    "# Distribution of wine quality\n",
    "sns.countplot(x='quality', data=data)\n",
    "plt.show()\n",
    "\n",
    "# Pairplot of features\n",
    "sns.pairplot(data, hue='quality')\n",
    "plt.show()\n"
   ]
  }
 ],
 "metadata": {
  "language_info": {
   "name": "python"
  }
 },
 "nbformat": 4,
 "nbformat_minor": 2
}
